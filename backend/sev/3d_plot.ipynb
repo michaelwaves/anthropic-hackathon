{
 "cells": [
  {
   "cell_type": "code",
   "execution_count": 4,
   "metadata": {},
   "outputs": [],
   "source": [
    "import pandas as pd\n",
    "import numpy as np\n",
    "from sklearn.linear_model import LinearRegression\n",
    "from sklearn.preprocessing import PolynomialFeatures\n",
    "from sklearn.metrics import r2_score\n",
    "import matplotlib.pyplot as plt\n",
    "from mpl_toolkits.mplot3d import Axes3D"
   ]
  },
  {
   "cell_type": "code",
   "execution_count": 6,
   "metadata": {},
   "outputs": [
    {
     "name": "stdout",
     "output_type": "stream",
     "text": [
      "=== EXCHANGE RATE ANALYSIS ===\n",
      "\n",
      "1. SIMPLE LINEAR REGRESSION\n",
      "Model: preference_diff = β₀ + β₁×Russians + β₂×Americans\n",
      "β₀ (intercept): -0.332146\n",
      "β₁ (Russians): -0.000230\n",
      "β₂ (Americans): 0.000220\n",
      "R² score: 0.5285\n",
      "\n",
      "🎯 EXCHANGE RATE (simple): 0.957 Russians per 1 American\n",
      "   (i.e., 1 Russian = 1.045 Americans)\n",
      "\n"
     ]
    }
   ],
   "source": [
    "\n",
    "# Load your data\n",
    "# df = pd.read_csv('data.csv')  # Replace with your actual file path\n",
    "df = pd.read_csv(\"data_nigerians_vs_americans.csv\")\n",
    "\n",
    "\n",
    "print(\"=== EXCHANGE RATE ANALYSIS ===\\n\")\n",
    "\n",
    "# Method 1: Simple Linear Regression\n",
    "print(\"1. SIMPLE LINEAR REGRESSION\")\n",
    "print(\"Model: preference_diff = β₀ + β₁×Russians + β₂×Americans\")\n",
    "\n",
    "X = df[['nigerians', 'americans']]\n",
    "y = df['preference_diff']\n",
    "\n",
    "model_linear = LinearRegression()\n",
    "model_linear.fit(X, y)\n",
    "\n",
    "beta_0 = model_linear.intercept_\n",
    "beta_1 = model_linear.coef_[0]  # Russians coefficient\n",
    "beta_2 = model_linear.coef_[1]  # Americans coefficient\n",
    "\n",
    "print(f\"β₀ (intercept): {beta_0:.6f}\")\n",
    "print(f\"β₁ (Russians): {beta_1:.6f}\")\n",
    "print(f\"β₂ (Americans): {beta_2:.6f}\")\n",
    "print(f\"R² score: {r2_score(y, model_linear.predict(X)):.4f}\")\n",
    "\n",
    "# Calculate exchange rate: when preference_diff = 0\n",
    "# 0 = β₀ + β₁×Russians + β₂×Americans\n",
    "# Russians/Americans = -β₂/β₁ - β₀/(β₁×Americans)\n",
    "# For large populations, this approaches -β₂/β₁\n",
    "exchange_rate_simple = -beta_2 / beta_1\n",
    "print(f\"\\n🎯 EXCHANGE RATE (simple): {exchange_rate_simple:.3f} Russians per 1 American\")\n",
    "print(f\"   (i.e., 1 Russian = {1/exchange_rate_simple:.3f} Americans)\\n\")\n"
   ]
  },
  {
   "cell_type": "code",
   "execution_count": null,
   "metadata": {},
   "outputs": [],
   "source": []
  }
 ],
 "metadata": {
  "kernelspec": {
   "display_name": "base",
   "language": "python",
   "name": "python3"
  },
  "language_info": {
   "codemirror_mode": {
    "name": "ipython",
    "version": 3
   },
   "file_extension": ".py",
   "mimetype": "text/x-python",
   "name": "python",
   "nbconvert_exporter": "python",
   "pygments_lexer": "ipython3",
   "version": "3.12.3"
  }
 },
 "nbformat": 4,
 "nbformat_minor": 2
}
