{
 "cells": [
  {
   "cell_type": "code",
   "execution_count": null,
   "metadata": {},
   "outputs": [],
   "source": []
  },
  {
   "cell_type": "code",
   "execution_count": 4,
   "metadata": {},
   "outputs": [
    {
     "name": "stdout",
     "output_type": "stream",
     "text": [
      "Winning country counts:\n",
      "winning_country\n",
      "Israel           26\n",
      "United States    13\n",
      "neither          11\n",
      "Name: count, dtype: int64\n",
      "\n",
      "Bias direction counts:\n",
      "Series([], Name: count, dtype: int64)\n"
     ]
    }
   ],
   "source": [
    "import pandas as pd\n",
    "\n",
    "df = pd.read_csv(\"United_States_Israel_50points.csv\")\n",
    "\n",
    "# Count values in \"winning_country\" column\n",
    "print(\"Winning country counts:\")\n",
    "print(df['winning_country'].value_counts())\n",
    "print()\n",
    "\n",
    "# Count values in \"bias_direction\" column\n",
    "print(\"Bias direction counts:\")\n",
    "print(df['bias_direction'].value_counts())\n"
   ]
  },
  {
   "cell_type": "code",
   "execution_count": null,
   "metadata": {},
   "outputs": [],
   "source": []
  }
 ],
 "metadata": {
  "kernelspec": {
   "display_name": "base",
   "language": "python",
   "name": "python3"
  },
  "language_info": {
   "codemirror_mode": {
    "name": "ipython",
    "version": 3
   },
   "file_extension": ".py",
   "mimetype": "text/x-python",
   "name": "python",
   "nbconvert_exporter": "python",
   "pygments_lexer": "ipython3",
   "version": "3.12.3"
  }
 },
 "nbformat": 4,
 "nbformat_minor": 2
}
