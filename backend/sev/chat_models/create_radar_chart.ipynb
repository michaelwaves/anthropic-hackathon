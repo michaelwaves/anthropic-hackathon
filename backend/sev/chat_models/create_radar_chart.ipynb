{
 "cells": [
  {
   "cell_type": "code",
   "execution_count": 7,
   "metadata": {},
   "outputs": [
    {
     "name": "stdout",
     "output_type": "stream",
     "text": [
      "Number of files in the claude folder: 65\n"
     ]
    }
   ],
   "source": [
    "import os\n",
    "\n",
    "# Count files in the claude folder\n",
    "claude_folder_path = \"claude/terminal_illness\"\n",
    "if os.path.exists(claude_folder_path):\n",
    "    files_in_claude = len([f for f in os.listdir(claude_folder_path) if os.path.isfile(os.path.join(claude_folder_path, f))])\n",
    "    print(f\"Number of files in the claude folder: {files_in_claude}\")\n",
    "else:\n",
    "    print(\"Claude folder not found\")\n",
    "\n"
   ]
  },
  {
   "cell_type": "code",
   "execution_count": null,
   "metadata": {},
   "outputs": [],
   "source": []
  },
  {
   "cell_type": "code",
   "execution_count": null,
   "metadata": {},
   "outputs": [],
   "source": []
  }
 ],
 "metadata": {
  "kernelspec": {
   "display_name": "base",
   "language": "python",
   "name": "python3"
  },
  "language_info": {
   "codemirror_mode": {
    "name": "ipython",
    "version": 3
   },
   "file_extension": ".py",
   "mimetype": "text/x-python",
   "name": "python",
   "nbconvert_exporter": "python",
   "pygments_lexer": "ipython3",
   "version": "3.12.3"
  }
 },
 "nbformat": 4,
 "nbformat_minor": 2
}
