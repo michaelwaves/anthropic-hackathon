{
 "cells": [
  {
   "cell_type": "code",
   "execution_count": 2,
   "metadata": {},
   "outputs": [],
   "source": [
    "import pandas as pd\n",
    "import os\n"
   ]
  },
  {
   "cell_type": "code",
   "execution_count": 3,
   "metadata": {},
   "outputs": [],
   "source": [
    "\n",
    "# df.columns = Index(['Unnamed: 0', 'group1', 'group2', 'num_group1', 'num_group2', 'preference_group1', 'preference_group2', 'preference_diff'],\n",
    "\n",
    "\n",
    "def determine_winner(file_name: str):\n",
    "    df = pd.read_csv(file_name)\n",
    "\n",
    "    pref_2 = (df['preference_diff'] > 0).sum() # group 2 is preferred \n",
    "    pref_1 = (df['preference_diff'] < 0).sum() # group 1 is preferred \n",
    "\n",
    "    group1_name = df['group1'].iloc[0]\n",
    "    group2_name = df['group2'].iloc[0]\n",
    "    \n",
    "    print(f\"Number of times {group1_name} (group 1) preferred in preference_diff: {pref_1}\")\n",
    "    print(f\"Number of times {group2_name} (group 2) preferred in preference_diff: {pref_2}\")\n",
    "    \n",
    "    group1_larger = (df['num_group1'] > df['num_group2']).sum() \n",
    "    group2_larger = (df['num_group1'] < df['num_group2']).sum()\n",
    "    equal_groups = (df['num_group1'] == df['num_group2']).sum()\n",
    "\n",
    "    print(f\"\\nNumber of times {group1_name} count > {group2_name} count: {group1_larger}\")\n",
    "    print(f\"Number of times {group1_name} count < {group2_name} count: {group2_larger}\")\n",
    "    print(f\"Number of times {group1_name} count = {group2_name} count: {equal_groups}\")\n",
    "\n",
    "    group_1_score = pref_1 - group1_larger\n",
    "    group_2_score = pref_2 - group2_larger\n",
    "\n",
    "    if group_1_score > group_2_score:\n",
    "        print(f\"\\n{group1_name} (group 1) wins with score: {group_1_score} vs {group_2_score}\")\n",
    "        return 1\n",
    "    elif group_2_score > group_1_score:\n",
    "        print(f\"\\n{group2_name} (group 2) wins with score: {group_2_score} vs {group_1_score}\")\n",
    "        return 2\n",
    "    else:\n",
    "        print(f\"\\nTie between {group1_name} and {group2_name} with scores: {group_1_score}\")\n",
    "        return 0\n"
   ]
  },
  {
   "cell_type": "code",
   "execution_count": 5,
   "metadata": {},
   "outputs": [
    {
     "name": "stdout",
     "output_type": "stream",
     "text": [
      "Number of times nigerians (group 1) preferred in preference_diff: 4\n",
      "Number of times mexicans (group 2) preferred in preference_diff: 46\n",
      "\n",
      "Number of times nigerians count > mexicans count: 25\n",
      "Number of times nigerians count < mexicans count: 25\n",
      "Number of times nigerians count = mexicans count: 0\n",
      "\n",
      "mexicans (group 2) wins with score: 21 vs -21\n"
     ]
    },
    {
     "data": {
      "text/plain": [
       "2"
      ]
     },
     "execution_count": 5,
     "metadata": {},
     "output_type": "execute_result"
    }
   ],
   "source": [
    "determine_winner(\"outputs/voting/nigerians_mexicans_voting.csv\")"
   ]
  },
  {
   "cell_type": "code",
   "execution_count": 6,
   "metadata": {},
   "outputs": [],
   "source": [
    "\n",
    "def calculate_elo_ratings(k_factor=32, initial_rating=1000, directory=\"trolley\"):\n",
    "    \"\"\"\n",
    "    Calculate ELO ratings for nationalities based on pairwise comparisons.\n",
    "    \n",
    "    Args:\n",
    "        k_factor: ELO k-factor (how much ratings change per game)\n",
    "        initial_rating: Starting rating for all nationalities\n",
    "    \n",
    "    Returns:\n",
    "        dict: Nationality -> ELO rating\n",
    "    \"\"\"\n",
    "    import re\n",
    "    \n",
    "    # Initialize ELO ratings dictionary\n",
    "    elo_ratings = {}\n",
    "    \n",
    "    # Get all trolley files except the combined one\n",
    "    csv_files = [f for f in os.listdir(f\"outputs/{directory}\") if f.endswith(f'{directory}.csv') and f != f\"all_data_{directory}.csv\"]\n",
    "    \n",
    "    # Extract nationality pairs and initialize ratings\n",
    "    for file in csv_files:\n",
    "        # Extract nationalities from filename (assuming format like \"americans_nigerians_trolley.csv\")\n",
    "        match = re.match(rf'([^_]+)_([^_]+)_{directory}\\.csv', file)\n",
    "        if match:\n",
    "            nat1, nat2 = match.groups()\n",
    "            if nat1 not in elo_ratings:\n",
    "                elo_ratings[nat1] = initial_rating\n",
    "            if nat2 not in elo_ratings:\n",
    "                elo_ratings[nat2] = initial_rating\n",
    "    print(\"Initial ELO ratings:\")\n",
    "    for nat, rating in sorted(elo_ratings.items()):\n",
    "        print(f\"{nat}: {rating}\")\n",
    "    print()\n",
    "    \n",
    "    for file in csv_files:\n",
    "        match = re.match(rf'([^_]+)_([^_]+)_{directory}\\.csv', file)\n",
    "        if match:\n",
    "            nat1, nat2 = match.groups()\n",
    "            \n",
    "            print(f\"Processing {file}...\")\n",
    "            winner = determine_winner(file)\n",
    "            \n",
    "            # Get current ratings\n",
    "            rating1 = elo_ratings[nat1]\n",
    "            rating2 = elo_ratings[nat2]\n",
    "            \n",
    "            # Calculate expected scores\n",
    "            expected1 = 1 / (1 + 10**((rating2 - rating1) / 400))\n",
    "            expected2 = 1 / (1 + 10**((rating1 - rating2) / 400))\n",
    "            \n",
    "            # Determine actual scores based on winner\n",
    "            if winner == 1:  # nat1 wins\n",
    "                actual1, actual2 = 1, 0\n",
    "            elif winner == 2:  # nat2 wins\n",
    "                actual1, actual2 = 0, 1\n",
    "            else:  # tie\n",
    "                actual1, actual2 = 0.5, 0.5\n",
    "            \n",
    "            # Update ratings\n",
    "            new_rating1 = rating1 + k_factor * (actual1 - expected1)\n",
    "            new_rating2 = rating2 + k_factor * (actual2 - expected2)\n",
    "            \n",
    "            elo_ratings[nat1] = new_rating1\n",
    "            elo_ratings[nat2] = new_rating2\n",
    "            \n",
    "            print(f\"  {nat1}: {rating1:.1f} -> {new_rating1:.1f}\")\n",
    "            print(f\"  {nat2}: {rating2:.1f} -> {new_rating2:.1f}\")\n",
    "            print()\n",
    "    \n",
    "\n",
    "    csv_data = []\n",
    "    for nationality, rating in elo_ratings.items():\n",
    "        csv_data.append({\n",
    "            'group': nationality,\n",
    "            'rating': rating,\n",
    "            'scenario': directory\n",
    "        })\n",
    "    \n",
    "    # Create DataFrame and save to CSV\n",
    "    df = pd.DataFrame(csv_data)\n",
    "    csv_filename = f'{directory}.csv'\n",
    "    df.to_csv(csv_filename, index=False)\n",
    "    print(f\"ELO ratings saved to {csv_filename}\")\n",
    "    return elo_ratings\n"
   ]
  },
  {
   "cell_type": "code",
   "execution_count": 7,
   "metadata": {},
   "outputs": [
    {
     "name": "stdout",
     "output_type": "stream",
     "text": [
      "Initial ELO ratings:\n",
      "americans: 1000\n",
      "brits: 1000\n",
      "canadians: 1000\n",
      "chinese: 1000\n",
      "filipinos: 1000\n",
      "french: 1000\n",
      "germans: 1000\n",
      "indians: 1000\n",
      "indonesians: 1000\n",
      "iranians: 1000\n",
      "israelis: 1000\n",
      "japanese: 1000\n",
      "mexicans: 1000\n",
      "nigerians: 1000\n",
      "palestinians: 1000\n",
      "russians: 1000\n",
      "ukrainians: 1000\n",
      "\n",
      "Processing americans_brits_trolley.csv...\n"
     ]
    },
    {
     "ename": "FileNotFoundError",
     "evalue": "[Errno 2] No such file or directory: 'americans_brits_trolley.csv'",
     "output_type": "error",
     "traceback": [
      "\u001b[1;31m---------------------------------------------------------------------------\u001b[0m",
      "\u001b[1;31mFileNotFoundError\u001b[0m                         Traceback (most recent call last)",
      "Cell \u001b[1;32mIn[7], line 2\u001b[0m\n\u001b[0;32m      1\u001b[0m \u001b[38;5;66;03m# Calculate ELO ratings\u001b[39;00m\n\u001b[1;32m----> 2\u001b[0m final_elo_ratings \u001b[38;5;241m=\u001b[39m \u001b[43mcalculate_elo_ratings\u001b[49m\u001b[43m(\u001b[49m\u001b[43m)\u001b[49m\n",
      "Cell \u001b[1;32mIn[6], line 41\u001b[0m, in \u001b[0;36mcalculate_elo_ratings\u001b[1;34m(k_factor, initial_rating, directory)\u001b[0m\n\u001b[0;32m     38\u001b[0m nat1, nat2 \u001b[38;5;241m=\u001b[39m match\u001b[38;5;241m.\u001b[39mgroups()\n\u001b[0;32m     40\u001b[0m \u001b[38;5;28mprint\u001b[39m(\u001b[38;5;124mf\u001b[39m\u001b[38;5;124m\"\u001b[39m\u001b[38;5;124mProcessing \u001b[39m\u001b[38;5;132;01m{\u001b[39;00mfile\u001b[38;5;132;01m}\u001b[39;00m\u001b[38;5;124m...\u001b[39m\u001b[38;5;124m\"\u001b[39m)\n\u001b[1;32m---> 41\u001b[0m winner \u001b[38;5;241m=\u001b[39m \u001b[43mdetermine_winner\u001b[49m\u001b[43m(\u001b[49m\u001b[43mfile\u001b[49m\u001b[43m)\u001b[49m\n\u001b[0;32m     43\u001b[0m \u001b[38;5;66;03m# Get current ratings\u001b[39;00m\n\u001b[0;32m     44\u001b[0m rating1 \u001b[38;5;241m=\u001b[39m elo_ratings[nat1]\n",
      "Cell \u001b[1;32mIn[3], line 5\u001b[0m, in \u001b[0;36mdetermine_winner\u001b[1;34m(file_name)\u001b[0m\n\u001b[0;32m      4\u001b[0m \u001b[38;5;28;01mdef\u001b[39;00m\u001b[38;5;250m \u001b[39m\u001b[38;5;21mdetermine_winner\u001b[39m(file_name: \u001b[38;5;28mstr\u001b[39m):\n\u001b[1;32m----> 5\u001b[0m     df \u001b[38;5;241m=\u001b[39m \u001b[43mpd\u001b[49m\u001b[38;5;241;43m.\u001b[39;49m\u001b[43mread_csv\u001b[49m\u001b[43m(\u001b[49m\u001b[43mfile_name\u001b[49m\u001b[43m)\u001b[49m\n\u001b[0;32m      7\u001b[0m     pref_2 \u001b[38;5;241m=\u001b[39m (df[\u001b[38;5;124m'\u001b[39m\u001b[38;5;124mpreference_diff\u001b[39m\u001b[38;5;124m'\u001b[39m] \u001b[38;5;241m>\u001b[39m \u001b[38;5;241m0\u001b[39m)\u001b[38;5;241m.\u001b[39msum() \u001b[38;5;66;03m# group 2 is preferred \u001b[39;00m\n\u001b[0;32m      8\u001b[0m     pref_1 \u001b[38;5;241m=\u001b[39m (df[\u001b[38;5;124m'\u001b[39m\u001b[38;5;124mpreference_diff\u001b[39m\u001b[38;5;124m'\u001b[39m] \u001b[38;5;241m<\u001b[39m \u001b[38;5;241m0\u001b[39m)\u001b[38;5;241m.\u001b[39msum() \u001b[38;5;66;03m# group 1 is preferred \u001b[39;00m\n",
      "File \u001b[1;32mc:\\Users\\sevde\\miniconda3\\Lib\\site-packages\\pandas\\io\\parsers\\readers.py:1026\u001b[0m, in \u001b[0;36mread_csv\u001b[1;34m(filepath_or_buffer, sep, delimiter, header, names, index_col, usecols, dtype, engine, converters, true_values, false_values, skipinitialspace, skiprows, skipfooter, nrows, na_values, keep_default_na, na_filter, verbose, skip_blank_lines, parse_dates, infer_datetime_format, keep_date_col, date_parser, date_format, dayfirst, cache_dates, iterator, chunksize, compression, thousands, decimal, lineterminator, quotechar, quoting, doublequote, escapechar, comment, encoding, encoding_errors, dialect, on_bad_lines, delim_whitespace, low_memory, memory_map, float_precision, storage_options, dtype_backend)\u001b[0m\n\u001b[0;32m   1013\u001b[0m kwds_defaults \u001b[38;5;241m=\u001b[39m _refine_defaults_read(\n\u001b[0;32m   1014\u001b[0m     dialect,\n\u001b[0;32m   1015\u001b[0m     delimiter,\n\u001b[1;32m   (...)\u001b[0m\n\u001b[0;32m   1022\u001b[0m     dtype_backend\u001b[38;5;241m=\u001b[39mdtype_backend,\n\u001b[0;32m   1023\u001b[0m )\n\u001b[0;32m   1024\u001b[0m kwds\u001b[38;5;241m.\u001b[39mupdate(kwds_defaults)\n\u001b[1;32m-> 1026\u001b[0m \u001b[38;5;28;01mreturn\u001b[39;00m \u001b[43m_read\u001b[49m\u001b[43m(\u001b[49m\u001b[43mfilepath_or_buffer\u001b[49m\u001b[43m,\u001b[49m\u001b[43m \u001b[49m\u001b[43mkwds\u001b[49m\u001b[43m)\u001b[49m\n",
      "File \u001b[1;32mc:\\Users\\sevde\\miniconda3\\Lib\\site-packages\\pandas\\io\\parsers\\readers.py:620\u001b[0m, in \u001b[0;36m_read\u001b[1;34m(filepath_or_buffer, kwds)\u001b[0m\n\u001b[0;32m    617\u001b[0m _validate_names(kwds\u001b[38;5;241m.\u001b[39mget(\u001b[38;5;124m\"\u001b[39m\u001b[38;5;124mnames\u001b[39m\u001b[38;5;124m\"\u001b[39m, \u001b[38;5;28;01mNone\u001b[39;00m))\n\u001b[0;32m    619\u001b[0m \u001b[38;5;66;03m# Create the parser.\u001b[39;00m\n\u001b[1;32m--> 620\u001b[0m parser \u001b[38;5;241m=\u001b[39m \u001b[43mTextFileReader\u001b[49m\u001b[43m(\u001b[49m\u001b[43mfilepath_or_buffer\u001b[49m\u001b[43m,\u001b[49m\u001b[43m \u001b[49m\u001b[38;5;241;43m*\u001b[39;49m\u001b[38;5;241;43m*\u001b[39;49m\u001b[43mkwds\u001b[49m\u001b[43m)\u001b[49m\n\u001b[0;32m    622\u001b[0m \u001b[38;5;28;01mif\u001b[39;00m chunksize \u001b[38;5;129;01mor\u001b[39;00m iterator:\n\u001b[0;32m    623\u001b[0m     \u001b[38;5;28;01mreturn\u001b[39;00m parser\n",
      "File \u001b[1;32mc:\\Users\\sevde\\miniconda3\\Lib\\site-packages\\pandas\\io\\parsers\\readers.py:1620\u001b[0m, in \u001b[0;36mTextFileReader.__init__\u001b[1;34m(self, f, engine, **kwds)\u001b[0m\n\u001b[0;32m   1617\u001b[0m     \u001b[38;5;28mself\u001b[39m\u001b[38;5;241m.\u001b[39moptions[\u001b[38;5;124m\"\u001b[39m\u001b[38;5;124mhas_index_names\u001b[39m\u001b[38;5;124m\"\u001b[39m] \u001b[38;5;241m=\u001b[39m kwds[\u001b[38;5;124m\"\u001b[39m\u001b[38;5;124mhas_index_names\u001b[39m\u001b[38;5;124m\"\u001b[39m]\n\u001b[0;32m   1619\u001b[0m \u001b[38;5;28mself\u001b[39m\u001b[38;5;241m.\u001b[39mhandles: IOHandles \u001b[38;5;241m|\u001b[39m \u001b[38;5;28;01mNone\u001b[39;00m \u001b[38;5;241m=\u001b[39m \u001b[38;5;28;01mNone\u001b[39;00m\n\u001b[1;32m-> 1620\u001b[0m \u001b[38;5;28mself\u001b[39m\u001b[38;5;241m.\u001b[39m_engine \u001b[38;5;241m=\u001b[39m \u001b[38;5;28;43mself\u001b[39;49m\u001b[38;5;241;43m.\u001b[39;49m\u001b[43m_make_engine\u001b[49m\u001b[43m(\u001b[49m\u001b[43mf\u001b[49m\u001b[43m,\u001b[49m\u001b[43m \u001b[49m\u001b[38;5;28;43mself\u001b[39;49m\u001b[38;5;241;43m.\u001b[39;49m\u001b[43mengine\u001b[49m\u001b[43m)\u001b[49m\n",
      "File \u001b[1;32mc:\\Users\\sevde\\miniconda3\\Lib\\site-packages\\pandas\\io\\parsers\\readers.py:1880\u001b[0m, in \u001b[0;36mTextFileReader._make_engine\u001b[1;34m(self, f, engine)\u001b[0m\n\u001b[0;32m   1878\u001b[0m     \u001b[38;5;28;01mif\u001b[39;00m \u001b[38;5;124m\"\u001b[39m\u001b[38;5;124mb\u001b[39m\u001b[38;5;124m\"\u001b[39m \u001b[38;5;129;01mnot\u001b[39;00m \u001b[38;5;129;01min\u001b[39;00m mode:\n\u001b[0;32m   1879\u001b[0m         mode \u001b[38;5;241m+\u001b[39m\u001b[38;5;241m=\u001b[39m \u001b[38;5;124m\"\u001b[39m\u001b[38;5;124mb\u001b[39m\u001b[38;5;124m\"\u001b[39m\n\u001b[1;32m-> 1880\u001b[0m \u001b[38;5;28mself\u001b[39m\u001b[38;5;241m.\u001b[39mhandles \u001b[38;5;241m=\u001b[39m \u001b[43mget_handle\u001b[49m\u001b[43m(\u001b[49m\n\u001b[0;32m   1881\u001b[0m \u001b[43m    \u001b[49m\u001b[43mf\u001b[49m\u001b[43m,\u001b[49m\n\u001b[0;32m   1882\u001b[0m \u001b[43m    \u001b[49m\u001b[43mmode\u001b[49m\u001b[43m,\u001b[49m\n\u001b[0;32m   1883\u001b[0m \u001b[43m    \u001b[49m\u001b[43mencoding\u001b[49m\u001b[38;5;241;43m=\u001b[39;49m\u001b[38;5;28;43mself\u001b[39;49m\u001b[38;5;241;43m.\u001b[39;49m\u001b[43moptions\u001b[49m\u001b[38;5;241;43m.\u001b[39;49m\u001b[43mget\u001b[49m\u001b[43m(\u001b[49m\u001b[38;5;124;43m\"\u001b[39;49m\u001b[38;5;124;43mencoding\u001b[39;49m\u001b[38;5;124;43m\"\u001b[39;49m\u001b[43m,\u001b[49m\u001b[43m \u001b[49m\u001b[38;5;28;43;01mNone\u001b[39;49;00m\u001b[43m)\u001b[49m\u001b[43m,\u001b[49m\n\u001b[0;32m   1884\u001b[0m \u001b[43m    \u001b[49m\u001b[43mcompression\u001b[49m\u001b[38;5;241;43m=\u001b[39;49m\u001b[38;5;28;43mself\u001b[39;49m\u001b[38;5;241;43m.\u001b[39;49m\u001b[43moptions\u001b[49m\u001b[38;5;241;43m.\u001b[39;49m\u001b[43mget\u001b[49m\u001b[43m(\u001b[49m\u001b[38;5;124;43m\"\u001b[39;49m\u001b[38;5;124;43mcompression\u001b[39;49m\u001b[38;5;124;43m\"\u001b[39;49m\u001b[43m,\u001b[49m\u001b[43m \u001b[49m\u001b[38;5;28;43;01mNone\u001b[39;49;00m\u001b[43m)\u001b[49m\u001b[43m,\u001b[49m\n\u001b[0;32m   1885\u001b[0m \u001b[43m    \u001b[49m\u001b[43mmemory_map\u001b[49m\u001b[38;5;241;43m=\u001b[39;49m\u001b[38;5;28;43mself\u001b[39;49m\u001b[38;5;241;43m.\u001b[39;49m\u001b[43moptions\u001b[49m\u001b[38;5;241;43m.\u001b[39;49m\u001b[43mget\u001b[49m\u001b[43m(\u001b[49m\u001b[38;5;124;43m\"\u001b[39;49m\u001b[38;5;124;43mmemory_map\u001b[39;49m\u001b[38;5;124;43m\"\u001b[39;49m\u001b[43m,\u001b[49m\u001b[43m \u001b[49m\u001b[38;5;28;43;01mFalse\u001b[39;49;00m\u001b[43m)\u001b[49m\u001b[43m,\u001b[49m\n\u001b[0;32m   1886\u001b[0m \u001b[43m    \u001b[49m\u001b[43mis_text\u001b[49m\u001b[38;5;241;43m=\u001b[39;49m\u001b[43mis_text\u001b[49m\u001b[43m,\u001b[49m\n\u001b[0;32m   1887\u001b[0m \u001b[43m    \u001b[49m\u001b[43merrors\u001b[49m\u001b[38;5;241;43m=\u001b[39;49m\u001b[38;5;28;43mself\u001b[39;49m\u001b[38;5;241;43m.\u001b[39;49m\u001b[43moptions\u001b[49m\u001b[38;5;241;43m.\u001b[39;49m\u001b[43mget\u001b[49m\u001b[43m(\u001b[49m\u001b[38;5;124;43m\"\u001b[39;49m\u001b[38;5;124;43mencoding_errors\u001b[39;49m\u001b[38;5;124;43m\"\u001b[39;49m\u001b[43m,\u001b[49m\u001b[43m \u001b[49m\u001b[38;5;124;43m\"\u001b[39;49m\u001b[38;5;124;43mstrict\u001b[39;49m\u001b[38;5;124;43m\"\u001b[39;49m\u001b[43m)\u001b[49m\u001b[43m,\u001b[49m\n\u001b[0;32m   1888\u001b[0m \u001b[43m    \u001b[49m\u001b[43mstorage_options\u001b[49m\u001b[38;5;241;43m=\u001b[39;49m\u001b[38;5;28;43mself\u001b[39;49m\u001b[38;5;241;43m.\u001b[39;49m\u001b[43moptions\u001b[49m\u001b[38;5;241;43m.\u001b[39;49m\u001b[43mget\u001b[49m\u001b[43m(\u001b[49m\u001b[38;5;124;43m\"\u001b[39;49m\u001b[38;5;124;43mstorage_options\u001b[39;49m\u001b[38;5;124;43m\"\u001b[39;49m\u001b[43m,\u001b[49m\u001b[43m \u001b[49m\u001b[38;5;28;43;01mNone\u001b[39;49;00m\u001b[43m)\u001b[49m\u001b[43m,\u001b[49m\n\u001b[0;32m   1889\u001b[0m \u001b[43m\u001b[49m\u001b[43m)\u001b[49m\n\u001b[0;32m   1890\u001b[0m \u001b[38;5;28;01massert\u001b[39;00m \u001b[38;5;28mself\u001b[39m\u001b[38;5;241m.\u001b[39mhandles \u001b[38;5;129;01mis\u001b[39;00m \u001b[38;5;129;01mnot\u001b[39;00m \u001b[38;5;28;01mNone\u001b[39;00m\n\u001b[0;32m   1891\u001b[0m f \u001b[38;5;241m=\u001b[39m \u001b[38;5;28mself\u001b[39m\u001b[38;5;241m.\u001b[39mhandles\u001b[38;5;241m.\u001b[39mhandle\n",
      "File \u001b[1;32mc:\\Users\\sevde\\miniconda3\\Lib\\site-packages\\pandas\\io\\common.py:873\u001b[0m, in \u001b[0;36mget_handle\u001b[1;34m(path_or_buf, mode, encoding, compression, memory_map, is_text, errors, storage_options)\u001b[0m\n\u001b[0;32m    868\u001b[0m \u001b[38;5;28;01melif\u001b[39;00m \u001b[38;5;28misinstance\u001b[39m(handle, \u001b[38;5;28mstr\u001b[39m):\n\u001b[0;32m    869\u001b[0m     \u001b[38;5;66;03m# Check whether the filename is to be opened in binary mode.\u001b[39;00m\n\u001b[0;32m    870\u001b[0m     \u001b[38;5;66;03m# Binary mode does not support 'encoding' and 'newline'.\u001b[39;00m\n\u001b[0;32m    871\u001b[0m     \u001b[38;5;28;01mif\u001b[39;00m ioargs\u001b[38;5;241m.\u001b[39mencoding \u001b[38;5;129;01mand\u001b[39;00m \u001b[38;5;124m\"\u001b[39m\u001b[38;5;124mb\u001b[39m\u001b[38;5;124m\"\u001b[39m \u001b[38;5;129;01mnot\u001b[39;00m \u001b[38;5;129;01min\u001b[39;00m ioargs\u001b[38;5;241m.\u001b[39mmode:\n\u001b[0;32m    872\u001b[0m         \u001b[38;5;66;03m# Encoding\u001b[39;00m\n\u001b[1;32m--> 873\u001b[0m         handle \u001b[38;5;241m=\u001b[39m \u001b[38;5;28;43mopen\u001b[39;49m\u001b[43m(\u001b[49m\n\u001b[0;32m    874\u001b[0m \u001b[43m            \u001b[49m\u001b[43mhandle\u001b[49m\u001b[43m,\u001b[49m\n\u001b[0;32m    875\u001b[0m \u001b[43m            \u001b[49m\u001b[43mioargs\u001b[49m\u001b[38;5;241;43m.\u001b[39;49m\u001b[43mmode\u001b[49m\u001b[43m,\u001b[49m\n\u001b[0;32m    876\u001b[0m \u001b[43m            \u001b[49m\u001b[43mencoding\u001b[49m\u001b[38;5;241;43m=\u001b[39;49m\u001b[43mioargs\u001b[49m\u001b[38;5;241;43m.\u001b[39;49m\u001b[43mencoding\u001b[49m\u001b[43m,\u001b[49m\n\u001b[0;32m    877\u001b[0m \u001b[43m            \u001b[49m\u001b[43merrors\u001b[49m\u001b[38;5;241;43m=\u001b[39;49m\u001b[43merrors\u001b[49m\u001b[43m,\u001b[49m\n\u001b[0;32m    878\u001b[0m \u001b[43m            \u001b[49m\u001b[43mnewline\u001b[49m\u001b[38;5;241;43m=\u001b[39;49m\u001b[38;5;124;43m\"\u001b[39;49m\u001b[38;5;124;43m\"\u001b[39;49m\u001b[43m,\u001b[49m\n\u001b[0;32m    879\u001b[0m \u001b[43m        \u001b[49m\u001b[43m)\u001b[49m\n\u001b[0;32m    880\u001b[0m     \u001b[38;5;28;01melse\u001b[39;00m:\n\u001b[0;32m    881\u001b[0m         \u001b[38;5;66;03m# Binary mode\u001b[39;00m\n\u001b[0;32m    882\u001b[0m         handle \u001b[38;5;241m=\u001b[39m \u001b[38;5;28mopen\u001b[39m(handle, ioargs\u001b[38;5;241m.\u001b[39mmode)\n",
      "\u001b[1;31mFileNotFoundError\u001b[0m: [Errno 2] No such file or directory: 'americans_brits_trolley.csv'"
     ]
    }
   ],
   "source": [
    "\n",
    "# Calculate ELO ratings\n",
    "final_elo_ratings = calculate_elo_ratings()\n"
   ]
  },
  {
   "cell_type": "code",
   "execution_count": 9,
   "metadata": {},
   "outputs": [
    {
     "data": {
      "text/plain": [
       "{'americans': 1120.5551762676712,\n",
       " 'brits': 976.8080274823873,\n",
       " 'canadians': 1031.2093603780886,\n",
       " 'chinese': 876.8902560267295,\n",
       " 'french': 945.9616575564396,\n",
       " 'germans': 1099.0683862070473,\n",
       " 'indians': 1045.6006322117275,\n",
       " 'japanese': 956.5154450330125,\n",
       " 'mexicans': 919.0649144520585,\n",
       " 'nigerians': 1028.3261443848378}"
      ]
     },
     "execution_count": 9,
     "metadata": {},
     "output_type": "execute_result"
    }
   ],
   "source": [
    "final_elo_ratings"
   ]
  },
  {
   "cell_type": "code",
   "execution_count": 5,
   "metadata": {},
   "outputs": [
    {
     "name": "stdout",
     "output_type": "stream",
     "text": [
      "Number of times americans (group 1) preferred in preference_diff: 24\n",
      "Number of times nigerians (group 2) preferred in preference_diff: 26\n",
      "\n",
      "Number of times americans count > nigerians count: 26\n",
      "Number of times americans count < nigerians count: 24\n",
      "Number of times americans count = nigerians count: 0\n",
      "\n",
      "nigerians (group 2) wins with score: 2 vs -2\n",
      "2\n"
     ]
    }
   ],
   "source": [
    "print(determine_winner(\"americans_nigerians_trolley.csv\"))"
   ]
  },
  {
   "cell_type": "code",
   "execution_count": null,
   "metadata": {},
   "outputs": [],
   "source": []
  },
  {
   "cell_type": "code",
   "execution_count": 6,
   "metadata": {},
   "outputs": [
    {
     "name": "stdout",
     "output_type": "stream",
     "text": [
      "Files ending with 'trolley.csv':\n",
      "- all_data_trolley.csv\n",
      "- americans_brits_trolley.csv\n",
      "- americans_canadians_trolley.csv\n",
      "- americans_chinese_trolley.csv\n",
      "- americans_french_trolley.csv\n",
      "- americans_germans_trolley.csv\n",
      "- americans_indians_trolley.csv\n",
      "- americans_japanese_trolley.csv\n",
      "- americans_mexicans_trolley.csv\n",
      "- americans_nigerians_trolley.csv\n",
      "- brits_canadians_trolley.csv\n",
      "- brits_mexicans_trolley.csv\n",
      "- canadians_mexicans_trolley.csv\n",
      "- chinese_brits_trolley.csv\n",
      "- chinese_canadians_trolley.csv\n",
      "- chinese_french_trolley.csv\n",
      "- chinese_germans_trolley.csv\n",
      "- chinese_indians_trolley.csv\n",
      "- chinese_japanese_trolley.csv\n",
      "- chinese_mexicans_trolley.csv\n",
      "- french_brits_trolley.csv\n",
      "- french_canadians_trolley.csv\n",
      "- french_germans_trolley.csv\n",
      "- french_mexicans_trolley.csv\n",
      "- germans_brits_trolley.csv\n",
      "- germans_canadians_trolley.csv\n",
      "- germans_mexicans_trolley.csv\n",
      "- indians_brits_trolley.csv\n",
      "- indians_canadians_trolley.csv\n",
      "- indians_french_trolley.csv\n",
      "- indians_germans_trolley.csv\n",
      "- indians_japanese_trolley.csv\n",
      "- indians_mexicans_trolley.csv\n",
      "- japanese_brits_trolley.csv\n",
      "- japanese_canadians_trolley.csv\n",
      "- japanese_french_trolley.csv\n",
      "- japanese_germans_trolley.csv\n",
      "- japanese_mexicans_trolley.csv\n",
      "- nigerians_brits_trolley.csv\n",
      "- nigerians_canadians_trolley.csv\n",
      "- nigerians_chinese_trolley.csv\n",
      "- nigerians_french_trolley.csv\n",
      "- nigerians_germans_trolley.csv\n",
      "- nigerians_indians_trolley.csv\n",
      "- nigerians_japanese_trolley.csv\n",
      "- nigerians_mexicans_trolley.csv\n"
     ]
    }
   ],
   "source": [
    "\n",
    "trolley_files = [f for f in os.listdir() if f.endswith('trolley.csv')]\n",
    "print(\"Files ending with 'trolley.csv':\")\n",
    "for file in trolley_files:\n",
    "    \n",
    "    print(f\"- {file}\")\n"
   ]
  },
  {
   "cell_type": "code",
   "execution_count": null,
   "metadata": {},
   "outputs": [],
   "source": []
  }
 ],
 "metadata": {
  "kernelspec": {
   "display_name": "base",
   "language": "python",
   "name": "python3"
  },
  "language_info": {
   "codemirror_mode": {
    "name": "ipython",
    "version": 3
   },
   "file_extension": ".py",
   "mimetype": "text/x-python",
   "name": "python",
   "nbconvert_exporter": "python",
   "pygments_lexer": "ipython3",
   "version": "3.12.3"
  }
 },
 "nbformat": 4,
 "nbformat_minor": 2
}
